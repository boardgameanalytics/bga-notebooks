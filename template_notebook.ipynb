{
 "cells": [
  {
   "cell_type": "markdown",
   "metadata": {},
   "source": [
    "# BoardGameGeek Project Notebook - Template"
   ]
  },
  {
   "cell_type": "markdown",
   "metadata": {},
   "source": [
    "## Setup"
   ]
  },
  {
   "cell_type": "code",
   "execution_count": 2,
   "metadata": {},
   "outputs": [],
   "source": [
    "# Imports\n",
    "from os import getenv\n",
    "import pandas as pd\n",
    "from sqlalchemy import create_engine\n",
    "from dotenv import load_dotenv\n",
    "from helpers import sql, wrangle"
   ]
  },
  {
   "cell_type": "markdown",
   "metadata": {},
   "source": [
    "### Database Connection\n",
    "*Talk to [Randy](randynobx@gmail.com) for database access.*\n",
    "\n",
    "Save the connection URI string to 'DB_URI' in an .env file in the project directory.\n",
    "\n",
    "The below cell will load it and create the connection automatically."
   ]
  },
  {
   "cell_type": "code",
   "execution_count": 3,
   "metadata": {},
   "outputs": [],
   "source": [
    "# Database connection\n",
    "load_dotenv()\n",
    "url = getenv('DB_URI')\n",
    "db_conn = create_engine(url)"
   ]
  },
  {
   "cell_type": "markdown",
   "metadata": {},
   "source": [
    "## Load Data"
   ]
  },
  {
   "cell_type": "code",
   "execution_count": 4,
   "metadata": {},
   "outputs": [
    {
     "ename": "KeyError",
     "evalue": "\"None of ['ID'] are in the columns\"",
     "output_type": "error",
     "traceback": [
      "\u001b[0;31m---------------------------------------------------------------------------\u001b[0m",
      "\u001b[0;31mKeyError\u001b[0m                                  Traceback (most recent call last)",
      "\u001b[1;32m/Users/randy/DataProjects/boardgamegeek_project/notebooks/template_notebook.ipynb Cell 7\u001b[0m in \u001b[0;36m<cell line: 2>\u001b[0;34m()\u001b[0m\n\u001b[1;32m      <a href='vscode-notebook-cell:/Users/randy/DataProjects/boardgamegeek_project/notebooks/template_notebook.ipynb#W6sZmlsZQ%3D%3D?line=0'>1</a>\u001b[0m \u001b[39m# Load tables to dataframes\u001b[39;00m\n\u001b[0;32m----> <a href='vscode-notebook-cell:/Users/randy/DataProjects/boardgamegeek_project/notebooks/template_notebook.ipynb#W6sZmlsZQ%3D%3D?line=1'>2</a>\u001b[0m df_games \u001b[39m=\u001b[39m pd\u001b[39m.\u001b[39;49mread_sql_table(\u001b[39m'\u001b[39;49m\u001b[39mgame\u001b[39;49m\u001b[39m'\u001b[39;49m, db_conn, index_col\u001b[39m=\u001b[39;49m\u001b[39m'\u001b[39;49m\u001b[39mID\u001b[39;49m\u001b[39m'\u001b[39;49m)\n\u001b[1;32m      <a href='vscode-notebook-cell:/Users/randy/DataProjects/boardgamegeek_project/notebooks/template_notebook.ipynb#W6sZmlsZQ%3D%3D?line=3'>4</a>\u001b[0m \u001b[39m# Use queries to join tables and then load to dataframes\u001b[39;00m\n\u001b[1;32m      <a href='vscode-notebook-cell:/Users/randy/DataProjects/boardgamegeek_project/notebooks/template_notebook.ipynb#W6sZmlsZQ%3D%3D?line=4'>5</a>\u001b[0m df_game_designer \u001b[39m=\u001b[39m sql\u001b[39m.\u001b[39msql_query(\u001b[39m'\u001b[39m\u001b[39mqueries/game_designer_join.sql\u001b[39m\u001b[39m'\u001b[39m, db_conn)\n",
      "File \u001b[0;32m~/.local/share/virtualenvs/notebooks-1_t_a0mE/lib/python3.9/site-packages/pandas/io/sql.py:288\u001b[0m, in \u001b[0;36mread_sql_table\u001b[0;34m(table_name, con, schema, index_col, coerce_float, parse_dates, columns, chunksize)\u001b[0m\n\u001b[1;32m    285\u001b[0m \u001b[39mif\u001b[39;00m \u001b[39mnot\u001b[39;00m pandas_sql\u001b[39m.\u001b[39mhas_table(table_name):\n\u001b[1;32m    286\u001b[0m     \u001b[39mraise\u001b[39;00m \u001b[39mValueError\u001b[39;00m(\u001b[39mf\u001b[39m\u001b[39m\"\u001b[39m\u001b[39mTable \u001b[39m\u001b[39m{\u001b[39;00mtable_name\u001b[39m}\u001b[39;00m\u001b[39m not found\u001b[39m\u001b[39m\"\u001b[39m)\n\u001b[0;32m--> 288\u001b[0m table \u001b[39m=\u001b[39m pandas_sql\u001b[39m.\u001b[39;49mread_table(\n\u001b[1;32m    289\u001b[0m     table_name,\n\u001b[1;32m    290\u001b[0m     index_col\u001b[39m=\u001b[39;49mindex_col,\n\u001b[1;32m    291\u001b[0m     coerce_float\u001b[39m=\u001b[39;49mcoerce_float,\n\u001b[1;32m    292\u001b[0m     parse_dates\u001b[39m=\u001b[39;49mparse_dates,\n\u001b[1;32m    293\u001b[0m     columns\u001b[39m=\u001b[39;49mcolumns,\n\u001b[1;32m    294\u001b[0m     chunksize\u001b[39m=\u001b[39;49mchunksize,\n\u001b[1;32m    295\u001b[0m )\n\u001b[1;32m    297\u001b[0m \u001b[39mif\u001b[39;00m table \u001b[39mis\u001b[39;00m \u001b[39mnot\u001b[39;00m \u001b[39mNone\u001b[39;00m:\n\u001b[1;32m    298\u001b[0m     \u001b[39mreturn\u001b[39;00m table\n",
      "File \u001b[0;32m~/.local/share/virtualenvs/notebooks-1_t_a0mE/lib/python3.9/site-packages/pandas/io/sql.py:1457\u001b[0m, in \u001b[0;36mSQLDatabase.read_table\u001b[0;34m(self, table_name, index_col, coerce_float, parse_dates, columns, schema, chunksize)\u001b[0m\n\u001b[1;32m   1414\u001b[0m \u001b[39m\"\"\"\u001b[39;00m\n\u001b[1;32m   1415\u001b[0m \u001b[39mRead SQL database table into a DataFrame.\u001b[39;00m\n\u001b[1;32m   1416\u001b[0m \n\u001b[0;32m   (...)\u001b[0m\n\u001b[1;32m   1454\u001b[0m \n\u001b[1;32m   1455\u001b[0m \u001b[39m\"\"\"\u001b[39;00m\n\u001b[1;32m   1456\u001b[0m table \u001b[39m=\u001b[39m SQLTable(table_name, \u001b[39mself\u001b[39m, index\u001b[39m=\u001b[39mindex_col, schema\u001b[39m=\u001b[39mschema)\n\u001b[0;32m-> 1457\u001b[0m \u001b[39mreturn\u001b[39;00m table\u001b[39m.\u001b[39;49mread(\n\u001b[1;32m   1458\u001b[0m     coerce_float\u001b[39m=\u001b[39;49mcoerce_float,\n\u001b[1;32m   1459\u001b[0m     parse_dates\u001b[39m=\u001b[39;49mparse_dates,\n\u001b[1;32m   1460\u001b[0m     columns\u001b[39m=\u001b[39;49mcolumns,\n\u001b[1;32m   1461\u001b[0m     chunksize\u001b[39m=\u001b[39;49mchunksize,\n\u001b[1;32m   1462\u001b[0m )\n",
      "File \u001b[0;32m~/.local/share/virtualenvs/notebooks-1_t_a0mE/lib/python3.9/site-packages/pandas/io/sql.py:1020\u001b[0m, in \u001b[0;36mSQLTable.read\u001b[0;34m(self, coerce_float, parse_dates, columns, chunksize)\u001b[0m\n\u001b[1;32m   1017\u001b[0m \u001b[39mself\u001b[39m\u001b[39m.\u001b[39m_harmonize_columns(parse_dates\u001b[39m=\u001b[39mparse_dates)\n\u001b[1;32m   1019\u001b[0m \u001b[39mif\u001b[39;00m \u001b[39mself\u001b[39m\u001b[39m.\u001b[39mindex \u001b[39mis\u001b[39;00m \u001b[39mnot\u001b[39;00m \u001b[39mNone\u001b[39;00m:\n\u001b[0;32m-> 1020\u001b[0m     \u001b[39mself\u001b[39;49m\u001b[39m.\u001b[39;49mframe\u001b[39m.\u001b[39;49mset_index(\u001b[39mself\u001b[39;49m\u001b[39m.\u001b[39;49mindex, inplace\u001b[39m=\u001b[39;49m\u001b[39mTrue\u001b[39;49;00m)\n\u001b[1;32m   1022\u001b[0m \u001b[39mreturn\u001b[39;00m \u001b[39mself\u001b[39m\u001b[39m.\u001b[39mframe\n",
      "File \u001b[0;32m~/.local/share/virtualenvs/notebooks-1_t_a0mE/lib/python3.9/site-packages/pandas/util/_decorators.py:311\u001b[0m, in \u001b[0;36mdeprecate_nonkeyword_arguments.<locals>.decorate.<locals>.wrapper\u001b[0;34m(*args, **kwargs)\u001b[0m\n\u001b[1;32m    305\u001b[0m \u001b[39mif\u001b[39;00m \u001b[39mlen\u001b[39m(args) \u001b[39m>\u001b[39m num_allow_args:\n\u001b[1;32m    306\u001b[0m     warnings\u001b[39m.\u001b[39mwarn(\n\u001b[1;32m    307\u001b[0m         msg\u001b[39m.\u001b[39mformat(arguments\u001b[39m=\u001b[39marguments),\n\u001b[1;32m    308\u001b[0m         \u001b[39mFutureWarning\u001b[39;00m,\n\u001b[1;32m    309\u001b[0m         stacklevel\u001b[39m=\u001b[39mstacklevel,\n\u001b[1;32m    310\u001b[0m     )\n\u001b[0;32m--> 311\u001b[0m \u001b[39mreturn\u001b[39;00m func(\u001b[39m*\u001b[39;49margs, \u001b[39m*\u001b[39;49m\u001b[39m*\u001b[39;49mkwargs)\n",
      "File \u001b[0;32m~/.local/share/virtualenvs/notebooks-1_t_a0mE/lib/python3.9/site-packages/pandas/core/frame.py:5500\u001b[0m, in \u001b[0;36mDataFrame.set_index\u001b[0;34m(self, keys, drop, append, inplace, verify_integrity)\u001b[0m\n\u001b[1;32m   5497\u001b[0m                 missing\u001b[39m.\u001b[39mappend(col)\n\u001b[1;32m   5499\u001b[0m \u001b[39mif\u001b[39;00m missing:\n\u001b[0;32m-> 5500\u001b[0m     \u001b[39mraise\u001b[39;00m \u001b[39mKeyError\u001b[39;00m(\u001b[39mf\u001b[39m\u001b[39m\"\u001b[39m\u001b[39mNone of \u001b[39m\u001b[39m{\u001b[39;00mmissing\u001b[39m}\u001b[39;00m\u001b[39m are in the columns\u001b[39m\u001b[39m\"\u001b[39m)\n\u001b[1;32m   5502\u001b[0m \u001b[39mif\u001b[39;00m inplace:\n\u001b[1;32m   5503\u001b[0m     frame \u001b[39m=\u001b[39m \u001b[39mself\u001b[39m\n",
      "\u001b[0;31mKeyError\u001b[0m: \"None of ['ID'] are in the columns\""
     ]
    }
   ],
   "source": [
    "# Load tables to dataframes\n",
    "df_games = pd.read_sql_table('game', db_conn, index_col='id')\n",
    "\n",
    "# Use queries to join tables and then load to dataframes\n",
    "df_game_designer = sql.sql_query('queries/game_designer_join.sql', db_conn)"
   ]
  },
  {
   "cell_type": "markdown",
   "metadata": {},
   "source": [
    "## EDA"
   ]
  },
  {
   "cell_type": "code",
   "execution_count": null,
   "metadata": {},
   "outputs": [
    {
     "data": {
      "text/html": [
       "<div>\n",
       "<style scoped>\n",
       "    .dataframe tbody tr th:only-of-type {\n",
       "        vertical-align: middle;\n",
       "    }\n",
       "\n",
       "    .dataframe tbody tr th {\n",
       "        vertical-align: top;\n",
       "    }\n",
       "\n",
       "    .dataframe thead th {\n",
       "        text-align: right;\n",
       "    }\n",
       "</style>\n",
       "<table border=\"1\" class=\"dataframe\">\n",
       "  <thead>\n",
       "    <tr style=\"text-align: right;\">\n",
       "      <th></th>\n",
       "      <th>game_id</th>\n",
       "      <th>title</th>\n",
       "      <th>release_year</th>\n",
       "      <th>avg_rating</th>\n",
       "      <th>bayes_rating</th>\n",
       "      <th>total_ratings</th>\n",
       "      <th>std_ratings</th>\n",
       "      <th>min_players</th>\n",
       "      <th>max_players</th>\n",
       "      <th>min_playtime</th>\n",
       "      <th>max_playtime</th>\n",
       "      <th>weight</th>\n",
       "      <th>owned_copies</th>\n",
       "      <th>designer</th>\n",
       "    </tr>\n",
       "  </thead>\n",
       "  <tbody>\n",
       "    <tr>\n",
       "      <th>0</th>\n",
       "      <td>174430</td>\n",
       "      <td>Gloomhaven</td>\n",
       "      <td>2017</td>\n",
       "      <td>8.70519</td>\n",
       "      <td>8.47345</td>\n",
       "      <td>51642</td>\n",
       "      <td>1.65614</td>\n",
       "      <td>1</td>\n",
       "      <td>4</td>\n",
       "      <td>60</td>\n",
       "      <td>120</td>\n",
       "      <td>3.8855</td>\n",
       "      <td>83430</td>\n",
       "      <td>Isaac Childres</td>\n",
       "    </tr>\n",
       "    <tr>\n",
       "      <th>1</th>\n",
       "      <td>224517</td>\n",
       "      <td>Brass: Birmingham</td>\n",
       "      <td>2018</td>\n",
       "      <td>8.65648</td>\n",
       "      <td>8.42888</td>\n",
       "      <td>30037</td>\n",
       "      <td>1.25181</td>\n",
       "      <td>2</td>\n",
       "      <td>4</td>\n",
       "      <td>60</td>\n",
       "      <td>120</td>\n",
       "      <td>3.9136</td>\n",
       "      <td>44406</td>\n",
       "      <td>Gavan Brown</td>\n",
       "    </tr>\n",
       "    <tr>\n",
       "      <th>2</th>\n",
       "      <td>224517</td>\n",
       "      <td>Brass: Birmingham</td>\n",
       "      <td>2018</td>\n",
       "      <td>8.65648</td>\n",
       "      <td>8.42888</td>\n",
       "      <td>30037</td>\n",
       "      <td>1.25181</td>\n",
       "      <td>2</td>\n",
       "      <td>4</td>\n",
       "      <td>60</td>\n",
       "      <td>120</td>\n",
       "      <td>3.9136</td>\n",
       "      <td>44406</td>\n",
       "      <td>Matt Tolman</td>\n",
       "    </tr>\n",
       "    <tr>\n",
       "      <th>3</th>\n",
       "      <td>224517</td>\n",
       "      <td>Brass: Birmingham</td>\n",
       "      <td>2018</td>\n",
       "      <td>8.65648</td>\n",
       "      <td>8.42888</td>\n",
       "      <td>30037</td>\n",
       "      <td>1.25181</td>\n",
       "      <td>2</td>\n",
       "      <td>4</td>\n",
       "      <td>60</td>\n",
       "      <td>120</td>\n",
       "      <td>3.9136</td>\n",
       "      <td>44406</td>\n",
       "      <td>Martin Wallace</td>\n",
       "    </tr>\n",
       "    <tr>\n",
       "      <th>4</th>\n",
       "      <td>161936</td>\n",
       "      <td>Pandemic Legacy: Season 1</td>\n",
       "      <td>2015</td>\n",
       "      <td>8.57712</td>\n",
       "      <td>8.42617</td>\n",
       "      <td>47351</td>\n",
       "      <td>1.56374</td>\n",
       "      <td>2</td>\n",
       "      <td>4</td>\n",
       "      <td>60</td>\n",
       "      <td>60</td>\n",
       "      <td>2.8284</td>\n",
       "      <td>74121</td>\n",
       "      <td>Rob Daviau</td>\n",
       "    </tr>\n",
       "  </tbody>\n",
       "</table>\n",
       "</div>"
      ],
      "text/plain": [
       "   game_id                      title  release_year  avg_rating  bayes_rating  \\\n",
       "0   174430                 Gloomhaven          2017     8.70519       8.47345   \n",
       "1   224517          Brass: Birmingham          2018     8.65648       8.42888   \n",
       "2   224517          Brass: Birmingham          2018     8.65648       8.42888   \n",
       "3   224517          Brass: Birmingham          2018     8.65648       8.42888   \n",
       "4   161936  Pandemic Legacy: Season 1          2015     8.57712       8.42617   \n",
       "\n",
       "   total_ratings  std_ratings  min_players  max_players  min_playtime  \\\n",
       "0          51642      1.65614            1            4            60   \n",
       "1          30037      1.25181            2            4            60   \n",
       "2          30037      1.25181            2            4            60   \n",
       "3          30037      1.25181            2            4            60   \n",
       "4          47351      1.56374            2            4            60   \n",
       "\n",
       "   max_playtime  weight  owned_copies        designer  \n",
       "0           120  3.8855         83430  Isaac Childres  \n",
       "1           120  3.9136         44406     Gavan Brown  \n",
       "2           120  3.9136         44406     Matt Tolman  \n",
       "3           120  3.9136         44406  Martin Wallace  \n",
       "4            60  2.8284         74121      Rob Daviau  "
      ]
     },
     "execution_count": 9,
     "metadata": {},
     "output_type": "execute_result"
    }
   ],
   "source": [
    "df_game_designer.head()"
   ]
  }
 ],
 "metadata": {
  "kernelspec": {
   "display_name": "Python 3.9.13 ('notebooks-1_t_a0mE')",
   "language": "python",
   "name": "python3"
  },
  "language_info": {
   "codemirror_mode": {
    "name": "ipython",
    "version": 3
   },
   "file_extension": ".py",
   "mimetype": "text/x-python",
   "name": "python",
   "nbconvert_exporter": "python",
   "pygments_lexer": "ipython3",
   "version": "3.9.13"
  },
  "orig_nbformat": 4,
  "vscode": {
   "interpreter": {
    "hash": "0b7d41d9e4be5da154b59b4a62f5d617f1e559a0581bdd5bb14135b9f70b3064"
   }
  }
 },
 "nbformat": 4,
 "nbformat_minor": 2
}
