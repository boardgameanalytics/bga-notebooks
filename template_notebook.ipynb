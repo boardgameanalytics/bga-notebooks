{
 "cells": [
  {
   "cell_type": "markdown",
   "metadata": {},
   "source": [
    "# BoardGameGeek Project Notebook - Template"
   ]
  },
  {
   "cell_type": "markdown",
   "metadata": {},
   "source": [
    "## Setup"
   ]
  },
  {
   "cell_type": "code",
   "execution_count": 1,
   "metadata": {},
   "outputs": [],
   "source": [
    "# Imports\n",
    "from os import getenv\n",
    "import pandas as pd\n",
    "from sqlalchemy import create_engine\n",
    "from dotenv import load_dotenv\n",
    "from helpers import sql, wrangle"
   ]
  },
  {
   "cell_type": "markdown",
   "metadata": {},
   "source": [
    "### Database Connection\n",
    "Save the connection URI string to 'DB_URI' in an .env file in the project directory.\n",
    "\n",
    "The below cell will load it and create the connection automatically."
   ]
  },
  {
   "cell_type": "code",
   "execution_count": 2,
   "metadata": {},
   "outputs": [],
   "source": [
    "# Database connection\n",
    "load_dotenv()\n",
    "url = getenv('DB_URI')\n",
    "db_conn = create_engine(url)"
   ]
  },
  {
   "cell_type": "markdown",
   "metadata": {},
   "source": [
    "## Load Data"
   ]
  },
  {
   "cell_type": "code",
   "execution_count": 3,
   "metadata": {},
   "outputs": [],
   "source": [
    "# Load tables to dataframes\n",
    "df_games = pd.read_sql_table('game', db_conn, index_col='id')\n",
    "\n",
    "# Use queries to join tables and then load to dataframes\n",
    "# df_game_designer = sql.query('queries/game_designer_join.sql', db_conn)"
   ]
  },
  {
   "cell_type": "markdown",
   "metadata": {},
   "source": [
    "## EDA"
   ]
  },
  {
   "cell_type": "code",
   "execution_count": 4,
   "metadata": {},
   "outputs": [
    {
     "data": {
      "text/html": [
       "<div>\n",
       "<style scoped>\n",
       "    .dataframe tbody tr th:only-of-type {\n",
       "        vertical-align: middle;\n",
       "    }\n",
       "\n",
       "    .dataframe tbody tr th {\n",
       "        vertical-align: top;\n",
       "    }\n",
       "\n",
       "    .dataframe thead th {\n",
       "        text-align: right;\n",
       "    }\n",
       "</style>\n",
       "<table border=\"1\" class=\"dataframe\">\n",
       "  <thead>\n",
       "    <tr style=\"text-align: right;\">\n",
       "      <th></th>\n",
       "      <th>title</th>\n",
       "      <th>release_year</th>\n",
       "      <th>avg_rating</th>\n",
       "      <th>bayes_rating</th>\n",
       "      <th>total_ratings</th>\n",
       "      <th>std_ratings</th>\n",
       "      <th>min_players</th>\n",
       "      <th>max_players</th>\n",
       "      <th>min_playtime</th>\n",
       "      <th>max_playtime</th>\n",
       "      <th>min_age</th>\n",
       "      <th>weight</th>\n",
       "      <th>owned_copies</th>\n",
       "      <th>wishlist</th>\n",
       "      <th>kickstarter</th>\n",
       "    </tr>\n",
       "    <tr>\n",
       "      <th>id</th>\n",
       "      <th></th>\n",
       "      <th></th>\n",
       "      <th></th>\n",
       "      <th></th>\n",
       "      <th></th>\n",
       "      <th></th>\n",
       "      <th></th>\n",
       "      <th></th>\n",
       "      <th></th>\n",
       "      <th></th>\n",
       "      <th></th>\n",
       "      <th></th>\n",
       "      <th></th>\n",
       "      <th></th>\n",
       "      <th></th>\n",
       "    </tr>\n",
       "  </thead>\n",
       "  <tbody>\n",
       "    <tr>\n",
       "      <th>174430</th>\n",
       "      <td>Gloomhaven</td>\n",
       "      <td>2017</td>\n",
       "      <td>8.70321</td>\n",
       "      <td>8.47191</td>\n",
       "      <td>51812</td>\n",
       "      <td>1.65645</td>\n",
       "      <td>1</td>\n",
       "      <td>4</td>\n",
       "      <td>60</td>\n",
       "      <td>120</td>\n",
       "      <td>14</td>\n",
       "      <td>3.8849</td>\n",
       "      <td>83681</td>\n",
       "      <td>18492</td>\n",
       "      <td>True</td>\n",
       "    </tr>\n",
       "    <tr>\n",
       "      <th>224517</th>\n",
       "      <td>Brass: Birmingham</td>\n",
       "      <td>2018</td>\n",
       "      <td>8.65709</td>\n",
       "      <td>8.42897</td>\n",
       "      <td>30279</td>\n",
       "      <td>1.25257</td>\n",
       "      <td>2</td>\n",
       "      <td>4</td>\n",
       "      <td>60</td>\n",
       "      <td>120</td>\n",
       "      <td>14</td>\n",
       "      <td>3.9123</td>\n",
       "      <td>44714</td>\n",
       "      <td>12996</td>\n",
       "      <td>True</td>\n",
       "    </tr>\n",
       "    <tr>\n",
       "      <th>161936</th>\n",
       "      <td>Pandemic Legacy: Season 1</td>\n",
       "      <td>2015</td>\n",
       "      <td>8.57567</td>\n",
       "      <td>8.42471</td>\n",
       "      <td>47445</td>\n",
       "      <td>1.56533</td>\n",
       "      <td>2</td>\n",
       "      <td>4</td>\n",
       "      <td>60</td>\n",
       "      <td>60</td>\n",
       "      <td>13</td>\n",
       "      <td>2.8288</td>\n",
       "      <td>74279</td>\n",
       "      <td>12176</td>\n",
       "      <td>False</td>\n",
       "    </tr>\n",
       "    <tr>\n",
       "      <th>291457</th>\n",
       "      <td>Gloomhaven: Jaws of the Lion</td>\n",
       "      <td>2020</td>\n",
       "      <td>8.59583</td>\n",
       "      <td>8.25723</td>\n",
       "      <td>21913</td>\n",
       "      <td>1.43369</td>\n",
       "      <td>1</td>\n",
       "      <td>4</td>\n",
       "      <td>30</td>\n",
       "      <td>120</td>\n",
       "      <td>14</td>\n",
       "      <td>3.6100</td>\n",
       "      <td>51222</td>\n",
       "      <td>6788</td>\n",
       "      <td>False</td>\n",
       "    </tr>\n",
       "    <tr>\n",
       "      <th>167791</th>\n",
       "      <td>Terraforming Mars</td>\n",
       "      <td>2016</td>\n",
       "      <td>8.40049</td>\n",
       "      <td>8.25560</td>\n",
       "      <td>81182</td>\n",
       "      <td>1.39382</td>\n",
       "      <td>1</td>\n",
       "      <td>5</td>\n",
       "      <td>120</td>\n",
       "      <td>120</td>\n",
       "      <td>12</td>\n",
       "      <td>3.2490</td>\n",
       "      <td>111848</td>\n",
       "      <td>20110</td>\n",
       "      <td>False</td>\n",
       "    </tr>\n",
       "  </tbody>\n",
       "</table>\n",
       "</div>"
      ],
      "text/plain": [
       "                               title  release_year  avg_rating  bayes_rating  \\\n",
       "id                                                                             \n",
       "174430                    Gloomhaven          2017     8.70321       8.47191   \n",
       "224517             Brass: Birmingham          2018     8.65709       8.42897   \n",
       "161936     Pandemic Legacy: Season 1          2015     8.57567       8.42471   \n",
       "291457  Gloomhaven: Jaws of the Lion          2020     8.59583       8.25723   \n",
       "167791             Terraforming Mars          2016     8.40049       8.25560   \n",
       "\n",
       "        total_ratings  std_ratings  min_players  max_players  min_playtime  \\\n",
       "id                                                                           \n",
       "174430          51812      1.65645            1            4            60   \n",
       "224517          30279      1.25257            2            4            60   \n",
       "161936          47445      1.56533            2            4            60   \n",
       "291457          21913      1.43369            1            4            30   \n",
       "167791          81182      1.39382            1            5           120   \n",
       "\n",
       "        max_playtime  min_age  weight  owned_copies  wishlist  kickstarter  \n",
       "id                                                                          \n",
       "174430           120       14  3.8849         83681     18492         True  \n",
       "224517           120       14  3.9123         44714     12996         True  \n",
       "161936            60       13  2.8288         74279     12176        False  \n",
       "291457           120       14  3.6100         51222      6788        False  \n",
       "167791           120       12  3.2490        111848     20110        False  "
      ]
     },
     "execution_count": 4,
     "metadata": {},
     "output_type": "execute_result"
    }
   ],
   "source": [
    "df_games.head()"
   ]
  },
  {
   "cell_type": "code",
   "execution_count": null,
   "metadata": {},
   "outputs": [],
   "source": []
  }
 ],
 "metadata": {
  "kernelspec": {
   "display_name": "Python 3.9.13 ('notebooks-1_t_a0mE')",
   "language": "python",
   "name": "python3"
  },
  "language_info": {
   "codemirror_mode": {
    "name": "ipython",
    "version": 3
   },
   "file_extension": ".py",
   "mimetype": "text/x-python",
   "name": "python",
   "nbconvert_exporter": "python",
   "pygments_lexer": "ipython3",
   "version": "3.9.13"
  },
  "orig_nbformat": 4,
  "vscode": {
   "interpreter": {
    "hash": "0b7d41d9e4be5da154b59b4a62f5d617f1e559a0581bdd5bb14135b9f70b3064"
   }
  }
 },
 "nbformat": 4,
 "nbformat_minor": 2
}
