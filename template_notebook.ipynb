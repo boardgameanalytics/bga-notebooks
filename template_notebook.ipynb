{
 "cells": [
  {
   "cell_type": "markdown",
   "metadata": {},
   "source": [
    "# BoardGameGeek Project Notebook - Template"
   ]
  },
  {
   "cell_type": "markdown",
   "metadata": {},
   "source": [
    "## Setup"
   ]
  },
  {
   "cell_type": "code",
   "execution_count": 2,
   "metadata": {},
   "outputs": [],
   "source": [
    "# Imports\n",
    "import os\n",
    "import pandas as pd\n",
    "from sqlalchemy import create_engine\n",
    "from dotenv import load_dotenv\n",
    "from helpers import sql, wrangle"
   ]
  },
  {
   "cell_type": "markdown",
   "metadata": {},
   "source": [
    "### Database Connection\n",
    "*Talk to [Randy](randynobx@gmail.com) for database access.*\n",
    "\n",
    "Save the connection URI string to 'DB_URI' in an .env file in the project directory.\n",
    "\n",
    "The below cell will load it and create the connection automatically."
   ]
  },
  {
   "cell_type": "code",
   "execution_count": 3,
   "metadata": {},
   "outputs": [],
   "source": [
    "# Database connection\n",
    "load_dotenv()\n",
    "url = os.getenv('DB_URI')\n",
    "db_conn = create_engine(url)"
   ]
  },
  {
   "cell_type": "markdown",
   "metadata": {},
   "source": [
    "## Load Data"
   ]
  },
  {
   "cell_type": "code",
   "execution_count": 8,
   "metadata": {},
   "outputs": [],
   "source": [
    "# Load tables to dataframes\n",
    "df_games = pd.read_sql_table('game', db_conn, index_col='ID')\n",
    "\n",
    "# Use queries to join tables and then load to dataframes\n",
    "df_game_designer = sql.sql_query('queries/game_designer_join.sql', db_conn)"
   ]
  },
  {
   "cell_type": "markdown",
   "metadata": {},
   "source": [
    "## EDA"
   ]
  },
  {
   "cell_type": "code",
   "execution_count": 9,
   "metadata": {},
   "outputs": [
    {
     "data": {
      "text/html": [
       "<div>\n",
       "<style scoped>\n",
       "    .dataframe tbody tr th:only-of-type {\n",
       "        vertical-align: middle;\n",
       "    }\n",
       "\n",
       "    .dataframe tbody tr th {\n",
       "        vertical-align: top;\n",
       "    }\n",
       "\n",
       "    .dataframe thead th {\n",
       "        text-align: right;\n",
       "    }\n",
       "</style>\n",
       "<table border=\"1\" class=\"dataframe\">\n",
       "  <thead>\n",
       "    <tr style=\"text-align: right;\">\n",
       "      <th></th>\n",
       "      <th>game_id</th>\n",
       "      <th>title</th>\n",
       "      <th>release_year</th>\n",
       "      <th>avg_rating</th>\n",
       "      <th>bayes_rating</th>\n",
       "      <th>total_ratings</th>\n",
       "      <th>std_ratings</th>\n",
       "      <th>min_players</th>\n",
       "      <th>max_players</th>\n",
       "      <th>min_playtime</th>\n",
       "      <th>max_playtime</th>\n",
       "      <th>weight</th>\n",
       "      <th>owned_copies</th>\n",
       "      <th>designer</th>\n",
       "    </tr>\n",
       "  </thead>\n",
       "  <tbody>\n",
       "    <tr>\n",
       "      <th>0</th>\n",
       "      <td>174430</td>\n",
       "      <td>Gloomhaven</td>\n",
       "      <td>2017</td>\n",
       "      <td>8.70519</td>\n",
       "      <td>8.47345</td>\n",
       "      <td>51642</td>\n",
       "      <td>1.65614</td>\n",
       "      <td>1</td>\n",
       "      <td>4</td>\n",
       "      <td>60</td>\n",
       "      <td>120</td>\n",
       "      <td>3.8855</td>\n",
       "      <td>83430</td>\n",
       "      <td>Isaac Childres</td>\n",
       "    </tr>\n",
       "    <tr>\n",
       "      <th>1</th>\n",
       "      <td>224517</td>\n",
       "      <td>Brass: Birmingham</td>\n",
       "      <td>2018</td>\n",
       "      <td>8.65648</td>\n",
       "      <td>8.42888</td>\n",
       "      <td>30037</td>\n",
       "      <td>1.25181</td>\n",
       "      <td>2</td>\n",
       "      <td>4</td>\n",
       "      <td>60</td>\n",
       "      <td>120</td>\n",
       "      <td>3.9136</td>\n",
       "      <td>44406</td>\n",
       "      <td>Gavan Brown</td>\n",
       "    </tr>\n",
       "    <tr>\n",
       "      <th>2</th>\n",
       "      <td>224517</td>\n",
       "      <td>Brass: Birmingham</td>\n",
       "      <td>2018</td>\n",
       "      <td>8.65648</td>\n",
       "      <td>8.42888</td>\n",
       "      <td>30037</td>\n",
       "      <td>1.25181</td>\n",
       "      <td>2</td>\n",
       "      <td>4</td>\n",
       "      <td>60</td>\n",
       "      <td>120</td>\n",
       "      <td>3.9136</td>\n",
       "      <td>44406</td>\n",
       "      <td>Matt Tolman</td>\n",
       "    </tr>\n",
       "    <tr>\n",
       "      <th>3</th>\n",
       "      <td>224517</td>\n",
       "      <td>Brass: Birmingham</td>\n",
       "      <td>2018</td>\n",
       "      <td>8.65648</td>\n",
       "      <td>8.42888</td>\n",
       "      <td>30037</td>\n",
       "      <td>1.25181</td>\n",
       "      <td>2</td>\n",
       "      <td>4</td>\n",
       "      <td>60</td>\n",
       "      <td>120</td>\n",
       "      <td>3.9136</td>\n",
       "      <td>44406</td>\n",
       "      <td>Martin Wallace</td>\n",
       "    </tr>\n",
       "    <tr>\n",
       "      <th>4</th>\n",
       "      <td>161936</td>\n",
       "      <td>Pandemic Legacy: Season 1</td>\n",
       "      <td>2015</td>\n",
       "      <td>8.57712</td>\n",
       "      <td>8.42617</td>\n",
       "      <td>47351</td>\n",
       "      <td>1.56374</td>\n",
       "      <td>2</td>\n",
       "      <td>4</td>\n",
       "      <td>60</td>\n",
       "      <td>60</td>\n",
       "      <td>2.8284</td>\n",
       "      <td>74121</td>\n",
       "      <td>Rob Daviau</td>\n",
       "    </tr>\n",
       "  </tbody>\n",
       "</table>\n",
       "</div>"
      ],
      "text/plain": [
       "   game_id                      title  release_year  avg_rating  bayes_rating  \\\n",
       "0   174430                 Gloomhaven          2017     8.70519       8.47345   \n",
       "1   224517          Brass: Birmingham          2018     8.65648       8.42888   \n",
       "2   224517          Brass: Birmingham          2018     8.65648       8.42888   \n",
       "3   224517          Brass: Birmingham          2018     8.65648       8.42888   \n",
       "4   161936  Pandemic Legacy: Season 1          2015     8.57712       8.42617   \n",
       "\n",
       "   total_ratings  std_ratings  min_players  max_players  min_playtime  \\\n",
       "0          51642      1.65614            1            4            60   \n",
       "1          30037      1.25181            2            4            60   \n",
       "2          30037      1.25181            2            4            60   \n",
       "3          30037      1.25181            2            4            60   \n",
       "4          47351      1.56374            2            4            60   \n",
       "\n",
       "   max_playtime  weight  owned_copies        designer  \n",
       "0           120  3.8855         83430  Isaac Childres  \n",
       "1           120  3.9136         44406     Gavan Brown  \n",
       "2           120  3.9136         44406     Matt Tolman  \n",
       "3           120  3.9136         44406  Martin Wallace  \n",
       "4            60  2.8284         74121      Rob Daviau  "
      ]
     },
     "execution_count": 9,
     "metadata": {},
     "output_type": "execute_result"
    }
   ],
   "source": [
    "df_game_designer.head()"
   ]
  }
 ],
 "metadata": {
  "kernelspec": {
   "display_name": "Python 3.9.13 ('notebooks-1_t_a0mE')",
   "language": "python",
   "name": "python3"
  },
  "language_info": {
   "codemirror_mode": {
    "name": "ipython",
    "version": 3
   },
   "file_extension": ".py",
   "mimetype": "text/x-python",
   "name": "python",
   "nbconvert_exporter": "python",
   "pygments_lexer": "ipython3",
   "version": "3.9.13"
  },
  "orig_nbformat": 4,
  "vscode": {
   "interpreter": {
    "hash": "0b7d41d9e4be5da154b59b4a62f5d617f1e559a0581bdd5bb14135b9f70b3064"
   }
  }
 },
 "nbformat": 4,
 "nbformat_minor": 2
}
